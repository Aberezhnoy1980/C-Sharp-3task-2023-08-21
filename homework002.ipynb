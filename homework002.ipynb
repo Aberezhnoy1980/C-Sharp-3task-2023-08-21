{
  "cells": [
    {
      "cell_type": "markdown",
      "metadata": {
        "id": "view-in-github",
        "colab_type": "text"
      },
      "source": [
        "<a href=\"https://colab.research.google.com/github/Aberezhnoy1980/C-Sharp-3task-2023-08-21/blob/master/homework002.ipynb\" target=\"_parent\"><img src=\"https://colab.research.google.com/assets/colab-badge.svg\" alt=\"Open In Colab\"/></a>"
      ]
    },
    {
      "cell_type": "markdown",
      "id": "705b149c",
      "metadata": {
        "id": "705b149c"
      },
      "source": [
        "### Задание 1\n",
        "Дана переменная, в которой хранится слово из латинских букв. Напишите код, который выводит на экран:\n",
        "\n",
        "* среднюю букву, если число букв в слове нечётное;\n",
        "* две средних буквы, если число букв чётное.\n"
      ]
    },
    {
      "cell_type": "code",
      "execution_count": null,
      "id": "cdc7c399",
      "metadata": {
        "id": "cdc7c399",
        "outputId": "ab25d3ff-652a-474d-c822-d3dee650008e"
      },
      "outputs": [
        {
          "name": "stdout",
          "output_type": "stream",
          "text": [
            "Enter any word: i\n",
            "Result is i\n"
          ]
        }
      ],
      "source": [
        "word = input('Enter any word: ')\n",
        "\n",
        "if len(word) % 2 == 0:\n",
        "    print(f'Result is {word[len(word) // 2 - 1:len(word) // 2 + 1]}')\n",
        "else:\n",
        "    print(f'Result is {word[len(word) // 2]}')"
      ]
    },
    {
      "cell_type": "markdown",
      "id": "c05f2301",
      "metadata": {
        "id": "c05f2301"
      },
      "source": [
        "### Задание 2\n",
        "Вы делаете MVP (минимально жизнеспособный продукт) dating-сервиса.\n",
        "У вас есть список юношей и девушек.\n",
        "Выдвигаем гипотезу: лучшие рекомендации получатся, если просто отсортировать имена по алфавиту и познакомить людей с одинаковыми индексами после сортировки. Но вы не будете никого знакомить, если кто-то может остаться без пары."
      ]
    },
    {
      "cell_type": "code",
      "execution_count": null,
      "id": "5474fe5c",
      "metadata": {
        "id": "5474fe5c"
      },
      "outputs": [],
      "source": [
        "boys = ['Peter', 'Alex', 'John', 'Arthur', 'Richard']\n",
        "girls = ['Kate', 'Liza', 'Kira', 'Emma', 'Trisha']"
      ]
    },
    {
      "cell_type": "code",
      "execution_count": null,
      "id": "1d21eb8b",
      "metadata": {
        "id": "1d21eb8b"
      },
      "outputs": [],
      "source": [
        "boys.sort()\n",
        "girls.sort()"
      ]
    },
    {
      "cell_type": "code",
      "execution_count": null,
      "id": "1e1fd5cd",
      "metadata": {
        "id": "1e1fd5cd",
        "outputId": "f9ca3b2c-d9d2-4e76-9ac3-8536b789ee5a"
      },
      "outputs": [
        {
          "name": "stdout",
          "output_type": "stream",
          "text": [
            "Идеальные пары:\n",
            "Alex и Emma\n",
            "Arthur и Kate\n",
            "John и Kira\n",
            "Peter и Liza\n",
            "Richard и Trisha\n"
          ]
        }
      ],
      "source": [
        "if len(boys) != len(girls):\n",
        "    print('Результат: \\nВнимание, кто-то может остаться без пары!')\n",
        "else:\n",
        "    perfect_couples = list(zip(boys, girls))\n",
        "    print(f'Идеальные пары:')\n",
        "    for i in perfect_couples:\n",
        "        print(f'{i[0]} и {i[1]}')"
      ]
    },
    {
      "cell_type": "code",
      "execution_count": null,
      "id": "36402bd8",
      "metadata": {
        "id": "36402bd8"
      },
      "outputs": [],
      "source": [
        "boys = ['Peter', 'Alex', 'John', 'Arthur', 'Richard', 'Michael']\n",
        "girls = ['Kate', 'Liza', 'Kira', 'Emma', 'Trisha']"
      ]
    },
    {
      "cell_type": "code",
      "execution_count": null,
      "id": "b26a87f9",
      "metadata": {
        "id": "b26a87f9",
        "outputId": "8809d6ef-88ef-4f50-e9c0-d666a2583518"
      },
      "outputs": [
        {
          "name": "stdout",
          "output_type": "stream",
          "text": [
            "Результат: \n",
            "Внимание, кто-то может остаться без пары!\n"
          ]
        }
      ],
      "source": [
        "if len(boys) != len(girls):\n",
        "    print('Результат: \\nВнимание, кто-то может остаться без пары!')\n",
        "else:\n",
        "    perfect_couples = list(zip(boys, girls))\n",
        "    print(f'Идеальные пары:')\n",
        "    for i in perfect_couples:\n",
        "        print(f'{i[0]} и {i[1]}')"
      ]
    }
  ],
  "metadata": {
    "kernelspec": {
      "display_name": "Python 3 (ipykernel)",
      "language": "python",
      "name": "python3"
    },
    "language_info": {
      "codemirror_mode": {
        "name": "ipython",
        "version": 3
      },
      "file_extension": ".py",
      "mimetype": "text/x-python",
      "name": "python",
      "nbconvert_exporter": "python",
      "pygments_lexer": "ipython3",
      "version": "3.11.5"
    },
    "colab": {
      "provenance": [],
      "include_colab_link": true
    }
  },
  "nbformat": 4,
  "nbformat_minor": 5
}